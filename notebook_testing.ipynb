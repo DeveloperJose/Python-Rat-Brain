{
 "cells": [
  {
   "cell_type": "code",
   "execution_count": null,
   "metadata": {
    "collapsed": true
   },
   "outputs": [],
   "source": [
    "# -*- coding: utf-8 -*-\n",
    "import cv2\n",
    "import numpy as np\n",
    "import pylab as plt\n",
    "import feature\n",
    "\n",
    "import scipy.ndimage.filters as filters\n",
    "import scipy.signal as signal\n",
    "%matplotlib inline"
   ]
  },
  {
   "cell_type": "code",
   "execution_count": null,
   "metadata": {
    "collapsed": false
   },
   "outputs": [],
   "source": [
    "filename = 'testing/region-70.jpg'\n",
    "im_region = feature.im_read(filename)\n",
    "im_region_gray = feature.im_read(filename, flags=cv2.IMREAD_GRAYSCALE)\n",
    "plt.imshow(im_region)"
   ]
  },
  {
   "cell_type": "code",
   "execution_count": null,
   "metadata": {
    "collapsed": false
   },
   "outputs": [],
   "source": [
    "im2 = filters.median_filter(im_region_gray, 5)\n",
    "kp1, des1 = feature.extract_sift(im2)\n",
    "print(\"Keypoints: \", len(kp1))\n",
    "im_kp = cv2.drawKeypoints(im2, kp1, None, flags=cv2.DRAW_MATCHES_FLAGS_DRAW_RICH_KEYPOINTS)\n",
    "plt.imshow(im_kp)"
   ]
  },
  {
   "cell_type": "code",
   "execution_count": null,
   "metadata": {
    "collapsed": false
   },
   "outputs": [],
   "source": [
    "im_nissl = feature.nissl_load(34)\n",
    "im_nissl = filters.median_filter(im_nissl, 5)\n",
    "kp2, des2 = feature.extract_sift(im_nissl)\n",
    "im_nissl_kp = cv2.drawKeypoints(im_nissl, kp2, None, flags=cv2.DRAW_MATCHES_FLAGS_DRAW_RICH_KEYPOINTS)\n",
    "plt.figure(figsize=(10,10))\n",
    "plt.imshow(im_nissl_kp)"
   ]
  },
  {
   "cell_type": "code",
   "execution_count": null,
   "metadata": {
    "collapsed": false
   },
   "outputs": [],
   "source": [
    "match = feature.match(im_region, kp1, des1, im_nissl, kp2, des2)\n",
    "print(\"Matches: \", len(match.matches))\n",
    "print(\"Inliers: \", match.inlier_count)\n",
    "plt.figure(figsize=(10,10))\n",
    "plt.imshow(match.result)\n",
    "plt.figure(figsize=(10,10))\n",
    "plt.imshow(match.result2)\n"
   ]
  },
  {
   "cell_type": "code",
   "execution_count": null,
   "metadata": {
    "collapsed": true
   },
   "outputs": [],
   "source": []
  },
  {
   "cell_type": "code",
   "execution_count": null,
   "metadata": {
    "collapsed": true
   },
   "outputs": [],
   "source": []
  }
 ],
 "metadata": {
  "kernelspec": {
   "display_name": "Python 3",
   "language": "python",
   "name": "python3"
  },
  "language_info": {
   "codemirror_mode": {
    "name": "ipython",
    "version": 3
   },
   "file_extension": ".py",
   "mimetype": "text/x-python",
   "name": "python",
   "nbconvert_exporter": "python",
   "pygments_lexer": "ipython3",
   "version": "3.6.0"
  }
 },
 "nbformat": 4,
 "nbformat_minor": 2
}
